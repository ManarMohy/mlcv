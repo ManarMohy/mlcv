{
 "cells": [
  {
   "cell_type": "code",
   "execution_count": null,
   "metadata": {},
   "outputs": [],
   "source": [
    "def train_data():\n",
    "    Train_Img = []\n",
    "    for i in tqdm(os.listdir('train')):\n",
    "        path = os.path.join('train',i)\n",
    "        img = cv2.imread(path)\n",
    "        img = cv2.resize(img, (224,224))\n",
    "        tensor = tf.convert_to_tensor(img, dtype=tf.float32)\n",
    "    return Train_Img\n",
    "images = train_data();"
   ]
  }
 ],
 "metadata": {
  "kernelspec": {
   "display_name": "Python 3",
   "language": "python",
   "name": "python3"
  },
  "language_info": {
   "codemirror_mode": {
    "name": "ipython",
    "version": 3
   },
   "file_extension": ".py",
   "mimetype": "text/x-python",
   "name": "python",
   "nbconvert_exporter": "python",
   "pygments_lexer": "ipython3",
   "version": "3.6.7"
  }
 },
 "nbformat": 4,
 "nbformat_minor": 2
}
